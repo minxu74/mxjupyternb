{
 "cells": [
  {
   "cell_type": "code",
   "execution_count": 24,
   "metadata": {},
   "outputs": [],
   "source": [
    "from lmt_drq import lmtJson\n",
    "import textwrap"
   ]
  },
  {
   "cell_type": "code",
   "execution_count": 15,
   "metadata": {},
   "outputs": [],
   "source": [
    "%%capture\n",
    "miptabs = ['Amon', 'Omon', 'Lmon', 'LImon', 'Emon', 'SImon']\n",
    "C4mipVars = {}\n",
    "CmipVars = {}\n",
    "for mt in miptabs:\n",
    "    C4mipJson = lmtJson('0.0', libtype='worksheet', preparedby='Min Xu')\n",
    "    CmipJson = lmtJson('0.0', libtype='worksheet', preparedby='Min Xu')\n",
    "    C4mipJson.load_cmordreq(\"C4MIP\", mt)\n",
    "    CmipJson.load_cmordreq(\"CMIP\", mt)\n",
    "    C4mipVars[mt] = [vdict['cmvar'] for vdict in C4mipJson.variables]\n",
    "    CmipVars[mt] = [vdict['cmvar'] for vdict in CmipJson.variables]"
   ]
  },
  {
   "cell_type": "code",
   "execution_count": 33,
   "metadata": {},
   "outputs": [
    {
     "name": "stdout",
     "output_type": "stream",
     "text": [
      "Amon:\n",
      "   Unique variables in C4MIP: All C4MIP varaibles are in CMIP\n",
      "   Unique variables in CMIP: All CMIP varaibles are in C4MIP\n",
      "Omon:\n",
      "   Unique variables in C4MIP: pop,phnat,pon,chldiat,bsi,dissi14cabio,physi,chlcalc,o2sat,phyn,chlmisc,chlpico,dissicnat,phyp,phyfe,phabio,bfe,chldiaz\n",
      "   Unique variables in CMIP: volcello\n",
      "Lmon:\n",
      "   Unique variables in C4MIP: All C4MIP varaibles are in CMIP\n",
      "   Unique variables in CMIP: treeFracSecEver,rGrowth,nppWood,cCwd,treeFracPrimDec,landCoverFrac,cSoilSlow,fGrazing,treeFracSecDec,fHarvest,c4PftFrac,cLitterBelow,cSoilFast,cSoilMedium,cLitterAbove,nbp,rMaint,fFire,treeFracPrimEver,c3PftFrac\n",
      "LImon:\n",
      "   Unique variables in C4MIP: All C4MIP varaibles are in CMIP\n",
      "   Unique variables in CMIP: sftflf,sftgrf,sftgif\n",
      "Emon:\n",
      "   Unique variables in C4MIP: fHarvestToAtmos,nMineralNO3,fNfert,fN2O,nppTree,c14Soil,fNgasFire,nppStem,expsi,wetlandCH4prod,ppdiaz,raGrass,nLeaf,raStem,fNVegLitter,rhTree,raRoot,wtd,cSoilAbove1m,expn,rac13,fNLitterSoil,vegHeightGrass,expfe,fVegFire,pppico,cOther,gppc14,nProduct,fNLandToOcean,rac14,nSoil,c14Land,cLitterSurf,nppGrass,expp,gppShrub,cLitterShrub,cLitterGrass,tSoilPools,cVegTree,cVegShrub,cStem,rhShrub,cLand,nMineralNH4,rhc14,nLitterSubSurf,raTree,expcalc,cSoilTree,rhc13,fHarvestToProduct,c14Litter,nLitterSurf,gppTree,fNAnthDisturb,ppdiat,netAtmosLandC14Flux,nppShrub,fDeforestToAtmos,wetlandCH4,c13Veg,fProductDecomp,rhLitter,raOther,cSoilShrub,mrsfl,c13Land,gppGrass,cLitterCwd,cVegGrass,nRoot,mrtws,fNOx,c14Veg,dissi14c,nLitter,cSoilLevels,fCLandToOcean,fg14co2,fVegLitterSenescence,rhGrass,fNleach,ppcalc,c13Soil,rhSoil,wetlandCH4cons,mrlso,fLitterFire,nLitterCwd,nVeg,vegHeight,fNdep,fVegSoilMortality,fNup,co23D,fNProduct,nStem,nOther,mrsll,nppOther,fNgasNonFire,exparag,fAnthDisturb,netAtmosLandC13Flux,ppmisc,cSoilPools,vegHeightShrub,nMineral,fBNF,raLeaf,gppc13,nLand,fVegSoilSenescence,fNVegSoil,vegHeightCrop,vegHeightPasture,fNloss,c13Litter,fVegLitterMortality,cSoilGrass,raShrub,cLitterSubSurf,fFireAll,fFireNat,cLitterTree,fDeforestToProduct,fNgas,vegHeightTree,fNnetmin,netAtmosLandCO2Flux\n",
      "   Unique variables in CMIP: nep,cMisc,fLuc,cWood,orog,fracLut,nwdFracLut\n",
      "SImon:\n",
      "   Unique variables in C4MIP: All C4MIP varaibles are in CMIP\n",
      "   Unique variables in CMIP: All CMIP varaibles are in C4MIP\n"
     ]
    }
   ],
   "source": [
    "for mt in miptabs:\n",
    "    # compare C4mipVars and CmipVars\n",
    "    C4mipUniqVars = set(C4mipVars[mt]) - set (CmipVars[mt])\n",
    "    CmipUniqVars = set(CmipVars[mt]) - set(C4mipVars[mt])\n",
    "    \n",
    "    print (mt+':')\n",
    "    c4mipstr = '   Unique variables in C4MIP: {}'\n",
    "    if len(C4mipUniqVars) == 0:\n",
    "        print (c4mipstr.format(\"All C4MIP varaibles are in CMIP\"))\n",
    "    else:\n",
    "        print (c4mipstr.format(','.join(C4mipUniqVars)))\n",
    "\n",
    "    cmipstr  = '   Unique variables in CMIP: {}'\n",
    "    if len(CmipUniqVars) == 0:\n",
    "        print (cmipstr.format(\"All CMIP varaibles are in C4MIP\"))\n",
    "    else:\n",
    "        print (cmipstr.format(','.join(CmipUniqVars)))\n",
    "\n",
    "    #print (mt, set(C4mipVars[mt]) - set(CmipVars[mt]), set(CmipVars[mt]) - set(C4mipVars[mt]))\n",
    "    "
   ]
  }
 ],
 "metadata": {
  "kernelspec": {
   "display_name": "ilamb_venv_py37",
   "language": "python",
   "name": "ilamb_venv_py37"
  },
  "language_info": {
   "codemirror_mode": {
    "name": "ipython",
    "version": 3
   },
   "file_extension": ".py",
   "mimetype": "text/x-python",
   "name": "python",
   "nbconvert_exporter": "python",
   "pygments_lexer": "ipython3",
   "version": "3.7.6"
  }
 },
 "nbformat": 4,
 "nbformat_minor": 4
}
